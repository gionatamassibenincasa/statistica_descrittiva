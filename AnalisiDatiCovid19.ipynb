{
  "nbformat": 4,
  "nbformat_minor": 0,
  "metadata": {
    "colab": {
      "name": "AnalisiDatiCovid.ipynb",
      "provenance": [],
      "collapsed_sections": [],
      "authorship_tag": "ABX9TyOifiWmqoR6cdck4kbPRNTu",
      "include_colab_link": true
    },
    "kernelspec": {
      "name": "python3",
      "display_name": "Python 3"
    }
  },
  "cells": [
    {
      "cell_type": "markdown",
      "metadata": {
        "id": "view-in-github",
        "colab_type": "text"
      },
      "source": [
        "<a href=\"https://colab.research.google.com/github/gionatamassibenincasa/statistica_descrittiva/blob/master/AnalisiDatiCovid19.ipynb\" target=\"_parent\"><img src=\"https://colab.research.google.com/assets/colab-badge.svg\" alt=\"Open In Colab\"/></a>"
      ]
    },
    {
      "cell_type": "code",
      "metadata": {
        "id": "9CEZegaIG3lM",
        "colab_type": "code",
        "colab": {}
      },
      "source": [
        "import pandas as pd\n",
        "import plotly as py\n",
        "import plotly.graph_objects as go\n",
        "from plotly.offline import iplot\n",
        "\n",
        "df_nazione = pd.read_csv(\"https://raw.githubusercontent.com/pcm-dpc/COVID-19/master/dati-andamento-nazionale/dpc-covid19-ita-andamento-nazionale.csv\")\n",
        "df_regioni = pd.read_csv(\"https://raw.githubusercontent.com/pcm-dpc/COVID-19/master/dati-regioni/dpc-covid19-ita-regioni.csv\")\n",
        "df_marche = df_regioni[df_regioni['codice_regione'] == 11]"
      ],
      "execution_count": 0,
      "outputs": []
    },
    {
      "cell_type": "code",
      "metadata": {
        "id": "ZQ9ynJFSG7al",
        "colab_type": "code",
        "colab": {
          "base_uri": "https://localhost:8080/",
          "height": 1000
        },
        "outputId": "d85834de-4efb-4c6c-9b2e-0e21f4615f10"
      },
      "source": [
        "for df in [ df_nazione, df_marche]:\n",
        "    fig = go.Figure()\n",
        "    fig.add_trace(go.Bar(\n",
        "        x=df.data,\n",
        "        y=df.totale_positivi,\n",
        "        name='Positivi'\n",
        "    ))\n",
        "    fig.add_trace(go.Bar(\n",
        "        x=date,\n",
        "        y=df.totale_ospedalizzati,\n",
        "        name='Totale ospedalizzati'\n",
        "    ))\n",
        "    fig.add_trace(go.Bar(\n",
        "        x=date,\n",
        "        y=df.deceduti,\n",
        "        name='Deceduti'\n",
        "    ))\n",
        "    fig.update_layout(barmode='group', xaxis_tickangle=-45, title_text = 'Marche' if 'denominazione_regione' in df.columns else 'Italia')\n",
        "    fig.show()"
      ],
      "execution_count": 3,
      "outputs": [
        {
          "output_type": "display_data",
          "data": {
            "text/html": [
              "<html>\n",
              "<head><meta charset=\"utf-8\" /></head>\n",
              "<body>\n",
              "    <div>\n",
              "            <script src=\"https://cdnjs.cloudflare.com/ajax/libs/mathjax/2.7.5/MathJax.js?config=TeX-AMS-MML_SVG\"></script><script type=\"text/javascript\">if (window.MathJax) {MathJax.Hub.Config({SVG: {font: \"STIX-Web\"}});}</script>\n",
              "                <script type=\"text/javascript\">window.PlotlyConfig = {MathJaxConfig: 'local'};</script>\n",
              "        <script src=\"https://cdn.plot.ly/plotly-latest.min.js\"></script>    \n",
              "            <div id=\"3222ffce-1d20-444a-abcc-e02025684bbf\" class=\"plotly-graph-div\" style=\"height:525px; width:100%;\"></div>\n",
              "            <script type=\"text/javascript\">\n",
              "                \n",
              "                    window.PLOTLYENV=window.PLOTLYENV || {};\n",
              "                    \n",
              "                if (document.getElementById(\"3222ffce-1d20-444a-abcc-e02025684bbf\")) {\n",
              "                    Plotly.newPlot(\n",
              "                        '3222ffce-1d20-444a-abcc-e02025684bbf',\n",
              "                        [{\"name\": \"Positivi\", \"type\": \"bar\", \"x\": [\"2020-02-24T18:00:00\", \"2020-02-25T18:00:00\", \"2020-02-26T18:00:00\", \"2020-02-27T18:00:00\", \"2020-02-28T18:00:00\", \"2020-02-29T18:00:00\", \"2020-03-01T18:00:00\", \"2020-03-02T18:00:00\", \"2020-03-03T18:00:00\", \"2020-03-04T18:00:00\", \"2020-03-05T18:00:00\", \"2020-03-06T18:00:00\", \"2020-03-07T18:00:00\", \"2020-03-08T18:00:00\", \"2020-03-09T18:00:00\", \"2020-03-10T18:00:00\", \"2020-03-11T17:00:00\", \"2020-03-12T17:00:00\", \"2020-03-13T17:00:00\", \"2020-03-14T17:00:00\", \"2020-03-15T17:00:00\", \"2020-03-16T17:00:00\", \"2020-03-17T17:00:00\", \"2020-03-18T17:00:00\", \"2020-03-19T17:00:00\", \"2020-03-20T17:00:00\", \"2020-03-21T17:00:00\", \"2020-03-22T17:00:00\", \"2020-03-23T17:00:00\", \"2020-03-24T17:00:00\", \"2020-03-25T17:00:00\", \"2020-03-26T17:00:00\", \"2020-03-27T17:00:00\", \"2020-03-28T17:00:00\", \"2020-03-29T17:00:00\", \"2020-03-30T17:00:00\", \"2020-03-31T17:00:00\", \"2020-04-01T17:00:00\", \"2020-04-02T17:00:00\", \"2020-04-03T17:00:00\", \"2020-04-04T17:00:00\", \"2020-04-05T17:00:00\", \"2020-04-06T17:00:00\", \"2020-04-07T17:00:00\"], \"y\": [221, 311, 385, 588, 821, 1049, 1577, 1835, 2263, 2706, 3296, 3916, 5061, 6387, 7985, 8514, 10590, 12839, 14955, 17750, 20603, 23073, 26062, 28710, 33190, 37860, 42681, 46638, 50418, 54030, 57521, 62013, 66414, 70065, 73880, 75528, 77635, 80572, 83049, 85388, 88274, 91246, 93187, 94067]}, {\"name\": \"Totale ospedalizzati\", \"type\": \"bar\", \"x\": [\"2020-02-24T18:00:00\", \"2020-02-25T18:00:00\", \"2020-02-26T18:00:00\", \"2020-02-27T18:00:00\", \"2020-02-28T18:00:00\", \"2020-02-29T17:00:00\", \"2020-03-01T17:00:00\", \"2020-03-02T18:00:00\", \"2020-03-03T18:00:00\", \"2020-03-04T17:00:00\", \"2020-03-05T17:00:00\", \"2020-03-06T17:00:00\", \"2020-03-07T18:00:00\", \"2020-03-08T18:00:00\", \"2020-03-09T18:00:00\", \"2020-03-10T18:00:00\", \"2020-03-11T17:00:00\", \"2020-03-12T17:00:00\", \"2020-03-13T17:00:00\", \"2020-03-14T17:00:00\", \"2020-03-15T17:00:00\", \"2020-03-16T17:00:00\", \"2020-03-17T17:00:00\", \"2020-03-18T17:00:00\", \"2020-03-19T17:00:00\", \"2020-03-20T17:00:00\", \"2020-03-21T17:00:00\", \"2020-03-22T17:00:00\", \"2020-03-23T17:00:00\", \"2020-03-24T17:00:00\", \"2020-03-25T17:00:00\", \"2020-03-26T17:00:00\", \"2020-03-27T17:00:00\", \"2020-03-28T17:00:00\", \"2020-03-29T17:00:00\", \"2020-03-30T17:00:00\", \"2020-03-31T17:00:00\", \"2020-04-01T17:00:00\", \"2020-04-02T17:00:00\", \"2020-04-03T17:00:00\", \"2020-04-04T17:00:00\", \"2020-04-05T17:00:00\", \"2020-04-06T17:00:00\", \"2020-04-07T17:00:00\"], \"y\": [127, 150, 164, 304, 409, 506, 779, 908, 1263, 1641, 2141, 2856, 3218, 4207, 5049, 5915, 6866, 7803, 8754, 9890, 11335, 12876, 14954, 16620, 18255, 18675, 20565, 22855, 23896, 25333, 26601, 28365, 29761, 30532, 31292, 31776, 32215, 32438, 32593, 32809, 33004, 32926, 32874, 32510]}, {\"name\": \"Deceduti\", \"type\": \"bar\", \"x\": [\"2020-02-24T18:00:00\", \"2020-02-25T18:00:00\", \"2020-02-26T18:00:00\", \"2020-02-27T18:00:00\", \"2020-02-28T18:00:00\", \"2020-02-29T17:00:00\", \"2020-03-01T17:00:00\", \"2020-03-02T18:00:00\", \"2020-03-03T18:00:00\", \"2020-03-04T17:00:00\", \"2020-03-05T17:00:00\", \"2020-03-06T17:00:00\", \"2020-03-07T18:00:00\", \"2020-03-08T18:00:00\", \"2020-03-09T18:00:00\", \"2020-03-10T18:00:00\", \"2020-03-11T17:00:00\", \"2020-03-12T17:00:00\", \"2020-03-13T17:00:00\", \"2020-03-14T17:00:00\", \"2020-03-15T17:00:00\", \"2020-03-16T17:00:00\", \"2020-03-17T17:00:00\", \"2020-03-18T17:00:00\", \"2020-03-19T17:00:00\", \"2020-03-20T17:00:00\", \"2020-03-21T17:00:00\", \"2020-03-22T17:00:00\", \"2020-03-23T17:00:00\", \"2020-03-24T17:00:00\", \"2020-03-25T17:00:00\", \"2020-03-26T17:00:00\", \"2020-03-27T17:00:00\", \"2020-03-28T17:00:00\", \"2020-03-29T17:00:00\", \"2020-03-30T17:00:00\", \"2020-03-31T17:00:00\", \"2020-04-01T17:00:00\", \"2020-04-02T17:00:00\", \"2020-04-03T17:00:00\", \"2020-04-04T17:00:00\", \"2020-04-05T17:00:00\", \"2020-04-06T17:00:00\", \"2020-04-07T17:00:00\"], \"y\": [7, 10, 12, 17, 21, 29, 34, 52, 79, 107, 148, 197, 233, 366, 463, 631, 827, 1016, 1266, 1441, 1809, 2158, 2503, 2978, 3405, 4032, 4825, 5476, 6077, 6820, 7503, 8165, 9134, 10023, 10779, 11591, 12428, 13155, 13915, 14681, 15362, 15887, 16523, 17127]}],\n",
              "                        {\"barmode\": \"group\", \"template\": {\"data\": {\"bar\": [{\"error_x\": {\"color\": \"#2a3f5f\"}, \"error_y\": {\"color\": \"#2a3f5f\"}, \"marker\": {\"line\": {\"color\": \"#E5ECF6\", \"width\": 0.5}}, \"type\": \"bar\"}], \"barpolar\": [{\"marker\": {\"line\": {\"color\": \"#E5ECF6\", \"width\": 0.5}}, \"type\": \"barpolar\"}], \"carpet\": [{\"aaxis\": {\"endlinecolor\": \"#2a3f5f\", \"gridcolor\": \"white\", \"linecolor\": \"white\", \"minorgridcolor\": \"white\", \"startlinecolor\": \"#2a3f5f\"}, \"baxis\": {\"endlinecolor\": \"#2a3f5f\", \"gridcolor\": \"white\", \"linecolor\": \"white\", \"minorgridcolor\": \"white\", \"startlinecolor\": \"#2a3f5f\"}, \"type\": \"carpet\"}], \"choropleth\": [{\"colorbar\": {\"outlinewidth\": 0, \"ticks\": \"\"}, \"type\": \"choropleth\"}], \"contour\": [{\"colorbar\": {\"outlinewidth\": 0, \"ticks\": \"\"}, \"colorscale\": [[0.0, \"#0d0887\"], [0.1111111111111111, \"#46039f\"], [0.2222222222222222, \"#7201a8\"], [0.3333333333333333, \"#9c179e\"], [0.4444444444444444, \"#bd3786\"], [0.5555555555555556, \"#d8576b\"], [0.6666666666666666, \"#ed7953\"], [0.7777777777777778, \"#fb9f3a\"], [0.8888888888888888, \"#fdca26\"], [1.0, \"#f0f921\"]], \"type\": \"contour\"}], \"contourcarpet\": [{\"colorbar\": {\"outlinewidth\": 0, \"ticks\": \"\"}, \"type\": \"contourcarpet\"}], \"heatmap\": [{\"colorbar\": {\"outlinewidth\": 0, \"ticks\": \"\"}, \"colorscale\": [[0.0, \"#0d0887\"], [0.1111111111111111, \"#46039f\"], [0.2222222222222222, \"#7201a8\"], [0.3333333333333333, \"#9c179e\"], [0.4444444444444444, \"#bd3786\"], [0.5555555555555556, \"#d8576b\"], [0.6666666666666666, \"#ed7953\"], [0.7777777777777778, \"#fb9f3a\"], [0.8888888888888888, \"#fdca26\"], [1.0, \"#f0f921\"]], \"type\": \"heatmap\"}], \"heatmapgl\": [{\"colorbar\": {\"outlinewidth\": 0, \"ticks\": \"\"}, \"colorscale\": [[0.0, \"#0d0887\"], [0.1111111111111111, \"#46039f\"], [0.2222222222222222, \"#7201a8\"], [0.3333333333333333, \"#9c179e\"], [0.4444444444444444, \"#bd3786\"], [0.5555555555555556, \"#d8576b\"], [0.6666666666666666, \"#ed7953\"], [0.7777777777777778, \"#fb9f3a\"], [0.8888888888888888, \"#fdca26\"], [1.0, \"#f0f921\"]], \"type\": \"heatmapgl\"}], \"histogram\": [{\"marker\": {\"colorbar\": {\"outlinewidth\": 0, \"ticks\": \"\"}}, \"type\": \"histogram\"}], \"histogram2d\": [{\"colorbar\": {\"outlinewidth\": 0, \"ticks\": \"\"}, \"colorscale\": [[0.0, \"#0d0887\"], [0.1111111111111111, \"#46039f\"], [0.2222222222222222, \"#7201a8\"], [0.3333333333333333, \"#9c179e\"], [0.4444444444444444, \"#bd3786\"], [0.5555555555555556, \"#d8576b\"], [0.6666666666666666, \"#ed7953\"], [0.7777777777777778, \"#fb9f3a\"], [0.8888888888888888, \"#fdca26\"], [1.0, \"#f0f921\"]], \"type\": \"histogram2d\"}], \"histogram2dcontour\": [{\"colorbar\": {\"outlinewidth\": 0, \"ticks\": \"\"}, \"colorscale\": [[0.0, \"#0d0887\"], [0.1111111111111111, \"#46039f\"], [0.2222222222222222, \"#7201a8\"], [0.3333333333333333, \"#9c179e\"], [0.4444444444444444, \"#bd3786\"], [0.5555555555555556, \"#d8576b\"], [0.6666666666666666, \"#ed7953\"], [0.7777777777777778, \"#fb9f3a\"], [0.8888888888888888, \"#fdca26\"], [1.0, \"#f0f921\"]], \"type\": \"histogram2dcontour\"}], \"mesh3d\": [{\"colorbar\": {\"outlinewidth\": 0, \"ticks\": \"\"}, \"type\": \"mesh3d\"}], \"parcoords\": [{\"line\": {\"colorbar\": {\"outlinewidth\": 0, \"ticks\": \"\"}}, \"type\": \"parcoords\"}], \"pie\": [{\"automargin\": true, \"type\": \"pie\"}], \"scatter\": [{\"marker\": {\"colorbar\": {\"outlinewidth\": 0, \"ticks\": \"\"}}, \"type\": \"scatter\"}], \"scatter3d\": [{\"line\": {\"colorbar\": {\"outlinewidth\": 0, \"ticks\": \"\"}}, \"marker\": {\"colorbar\": {\"outlinewidth\": 0, \"ticks\": \"\"}}, \"type\": \"scatter3d\"}], \"scattercarpet\": [{\"marker\": {\"colorbar\": {\"outlinewidth\": 0, \"ticks\": \"\"}}, \"type\": \"scattercarpet\"}], \"scattergeo\": [{\"marker\": {\"colorbar\": {\"outlinewidth\": 0, \"ticks\": \"\"}}, \"type\": \"scattergeo\"}], \"scattergl\": [{\"marker\": {\"colorbar\": {\"outlinewidth\": 0, \"ticks\": \"\"}}, \"type\": \"scattergl\"}], \"scattermapbox\": [{\"marker\": {\"colorbar\": {\"outlinewidth\": 0, \"ticks\": \"\"}}, \"type\": \"scattermapbox\"}], \"scatterpolar\": [{\"marker\": {\"colorbar\": {\"outlinewidth\": 0, \"ticks\": \"\"}}, \"type\": \"scatterpolar\"}], \"scatterpolargl\": [{\"marker\": {\"colorbar\": {\"outlinewidth\": 0, \"ticks\": \"\"}}, \"type\": \"scatterpolargl\"}], \"scatterternary\": [{\"marker\": {\"colorbar\": {\"outlinewidth\": 0, \"ticks\": \"\"}}, \"type\": \"scatterternary\"}], \"surface\": [{\"colorbar\": {\"outlinewidth\": 0, \"ticks\": \"\"}, \"colorscale\": [[0.0, \"#0d0887\"], [0.1111111111111111, \"#46039f\"], [0.2222222222222222, \"#7201a8\"], [0.3333333333333333, \"#9c179e\"], [0.4444444444444444, \"#bd3786\"], [0.5555555555555556, \"#d8576b\"], [0.6666666666666666, \"#ed7953\"], [0.7777777777777778, \"#fb9f3a\"], [0.8888888888888888, \"#fdca26\"], [1.0, \"#f0f921\"]], \"type\": \"surface\"}], \"table\": [{\"cells\": {\"fill\": {\"color\": \"#EBF0F8\"}, \"line\": {\"color\": \"white\"}}, \"header\": {\"fill\": {\"color\": \"#C8D4E3\"}, \"line\": {\"color\": \"white\"}}, \"type\": \"table\"}]}, \"layout\": {\"annotationdefaults\": {\"arrowcolor\": \"#2a3f5f\", \"arrowhead\": 0, \"arrowwidth\": 1}, \"coloraxis\": {\"colorbar\": {\"outlinewidth\": 0, \"ticks\": \"\"}}, \"colorscale\": {\"diverging\": [[0, \"#8e0152\"], [0.1, \"#c51b7d\"], [0.2, \"#de77ae\"], [0.3, \"#f1b6da\"], [0.4, \"#fde0ef\"], [0.5, \"#f7f7f7\"], [0.6, \"#e6f5d0\"], [0.7, \"#b8e186\"], [0.8, \"#7fbc41\"], [0.9, \"#4d9221\"], [1, \"#276419\"]], \"sequential\": [[0.0, \"#0d0887\"], [0.1111111111111111, \"#46039f\"], [0.2222222222222222, \"#7201a8\"], [0.3333333333333333, \"#9c179e\"], [0.4444444444444444, \"#bd3786\"], [0.5555555555555556, \"#d8576b\"], [0.6666666666666666, \"#ed7953\"], [0.7777777777777778, \"#fb9f3a\"], [0.8888888888888888, \"#fdca26\"], [1.0, \"#f0f921\"]], \"sequentialminus\": [[0.0, \"#0d0887\"], [0.1111111111111111, \"#46039f\"], [0.2222222222222222, \"#7201a8\"], [0.3333333333333333, \"#9c179e\"], [0.4444444444444444, \"#bd3786\"], [0.5555555555555556, \"#d8576b\"], [0.6666666666666666, \"#ed7953\"], [0.7777777777777778, \"#fb9f3a\"], [0.8888888888888888, \"#fdca26\"], [1.0, \"#f0f921\"]]}, \"colorway\": [\"#636efa\", \"#EF553B\", \"#00cc96\", \"#ab63fa\", \"#FFA15A\", \"#19d3f3\", \"#FF6692\", \"#B6E880\", \"#FF97FF\", \"#FECB52\"], \"font\": {\"color\": \"#2a3f5f\"}, \"geo\": {\"bgcolor\": \"white\", \"lakecolor\": \"white\", \"landcolor\": \"#E5ECF6\", \"showlakes\": true, \"showland\": true, \"subunitcolor\": \"white\"}, \"hoverlabel\": {\"align\": \"left\"}, \"hovermode\": \"closest\", \"mapbox\": {\"style\": \"light\"}, \"paper_bgcolor\": \"white\", \"plot_bgcolor\": \"#E5ECF6\", \"polar\": {\"angularaxis\": {\"gridcolor\": \"white\", \"linecolor\": \"white\", \"ticks\": \"\"}, \"bgcolor\": \"#E5ECF6\", \"radialaxis\": {\"gridcolor\": \"white\", \"linecolor\": \"white\", \"ticks\": \"\"}}, \"scene\": {\"xaxis\": {\"backgroundcolor\": \"#E5ECF6\", \"gridcolor\": \"white\", \"gridwidth\": 2, \"linecolor\": \"white\", \"showbackground\": true, \"ticks\": \"\", \"zerolinecolor\": \"white\"}, \"yaxis\": {\"backgroundcolor\": \"#E5ECF6\", \"gridcolor\": \"white\", \"gridwidth\": 2, \"linecolor\": \"white\", \"showbackground\": true, \"ticks\": \"\", \"zerolinecolor\": \"white\"}, \"zaxis\": {\"backgroundcolor\": \"#E5ECF6\", \"gridcolor\": \"white\", \"gridwidth\": 2, \"linecolor\": \"white\", \"showbackground\": true, \"ticks\": \"\", \"zerolinecolor\": \"white\"}}, \"shapedefaults\": {\"line\": {\"color\": \"#2a3f5f\"}}, \"ternary\": {\"aaxis\": {\"gridcolor\": \"white\", \"linecolor\": \"white\", \"ticks\": \"\"}, \"baxis\": {\"gridcolor\": \"white\", \"linecolor\": \"white\", \"ticks\": \"\"}, \"bgcolor\": \"#E5ECF6\", \"caxis\": {\"gridcolor\": \"white\", \"linecolor\": \"white\", \"ticks\": \"\"}}, \"title\": {\"x\": 0.05}, \"xaxis\": {\"automargin\": true, \"gridcolor\": \"white\", \"linecolor\": \"white\", \"ticks\": \"\", \"title\": {\"standoff\": 15}, \"zerolinecolor\": \"white\", \"zerolinewidth\": 2}, \"yaxis\": {\"automargin\": true, \"gridcolor\": \"white\", \"linecolor\": \"white\", \"ticks\": \"\", \"title\": {\"standoff\": 15}, \"zerolinecolor\": \"white\", \"zerolinewidth\": 2}}}, \"title\": {\"text\": \"Italia\"}, \"xaxis\": {\"tickangle\": -45}},\n",
              "                        {\"responsive\": true}\n",
              "                    ).then(function(){\n",
              "                            \n",
              "var gd = document.getElementById('3222ffce-1d20-444a-abcc-e02025684bbf');\n",
              "var x = new MutationObserver(function (mutations, observer) {{\n",
              "        var display = window.getComputedStyle(gd).display;\n",
              "        if (!display || display === 'none') {{\n",
              "            console.log([gd, 'removed!']);\n",
              "            Plotly.purge(gd);\n",
              "            observer.disconnect();\n",
              "        }}\n",
              "}});\n",
              "\n",
              "// Listen for the removal of the full notebook cells\n",
              "var notebookContainer = gd.closest('#notebook-container');\n",
              "if (notebookContainer) {{\n",
              "    x.observe(notebookContainer, {childList: true});\n",
              "}}\n",
              "\n",
              "// Listen for the clearing of the current output cell\n",
              "var outputEl = gd.closest('.output');\n",
              "if (outputEl) {{\n",
              "    x.observe(outputEl, {childList: true});\n",
              "}}\n",
              "\n",
              "                        })\n",
              "                };\n",
              "                \n",
              "            </script>\n",
              "        </div>\n",
              "</body>\n",
              "</html>"
            ]
          },
          "metadata": {
            "tags": []
          }
        },
        {
          "output_type": "display_data",
          "data": {
            "text/html": [
              "<html>\n",
              "<head><meta charset=\"utf-8\" /></head>\n",
              "<body>\n",
              "    <div>\n",
              "            <script src=\"https://cdnjs.cloudflare.com/ajax/libs/mathjax/2.7.5/MathJax.js?config=TeX-AMS-MML_SVG\"></script><script type=\"text/javascript\">if (window.MathJax) {MathJax.Hub.Config({SVG: {font: \"STIX-Web\"}});}</script>\n",
              "                <script type=\"text/javascript\">window.PlotlyConfig = {MathJaxConfig: 'local'};</script>\n",
              "        <script src=\"https://cdn.plot.ly/plotly-latest.min.js\"></script>    \n",
              "            <div id=\"4f183559-e5c6-47ca-acb4-6f192a2426b7\" class=\"plotly-graph-div\" style=\"height:525px; width:100%;\"></div>\n",
              "            <script type=\"text/javascript\">\n",
              "                \n",
              "                    window.PLOTLYENV=window.PLOTLYENV || {};\n",
              "                    \n",
              "                if (document.getElementById(\"4f183559-e5c6-47ca-acb4-6f192a2426b7\")) {\n",
              "                    Plotly.newPlot(\n",
              "                        '4f183559-e5c6-47ca-acb4-6f192a2426b7',\n",
              "                        [{\"name\": \"Positivi\", \"type\": \"bar\", \"x\": [\"2020-02-24T18:00:00\", \"2020-02-25T18:00:00\", \"2020-02-26T18:00:00\", \"2020-02-27T18:00:00\", \"2020-02-28T18:00:00\", \"2020-02-29T17:00:00\", \"2020-03-01T17:00:00\", \"2020-03-02T18:00:00\", \"2020-03-03T18:00:00\", \"2020-03-04T17:00:00\", \"2020-03-05T17:00:00\", \"2020-03-06T17:00:00\", \"2020-03-07T18:00:00\", \"2020-03-08T18:00:00\", \"2020-03-09T18:00:00\", \"2020-03-10T18:00:00\", \"2020-03-11T17:00:00\", \"2020-03-12T17:00:00\", \"2020-03-13T17:00:00\", \"2020-03-14T17:00:00\", \"2020-03-15T17:00:00\", \"2020-03-16T17:00:00\", \"2020-03-17T17:00:00\", \"2020-03-18T17:00:00\", \"2020-03-19T17:00:00\", \"2020-03-20T17:00:00\", \"2020-03-21T17:00:00\", \"2020-03-22T17:00:00\", \"2020-03-23T17:00:00\", \"2020-03-24T17:00:00\", \"2020-03-25T17:00:00\", \"2020-03-26T17:00:00\", \"2020-03-27T17:00:00\", \"2020-03-28T17:00:00\", \"2020-03-29T17:00:00\", \"2020-03-30T17:00:00\", \"2020-03-31T17:00:00\", \"2020-04-01T17:00:00\", \"2020-04-02T17:00:00\", \"2020-04-03T17:00:00\", \"2020-04-04T17:00:00\", \"2020-04-05T17:00:00\", \"2020-04-06T17:00:00\", \"2020-04-07T17:00:00\"], \"y\": [0, 0, 1, 3, 6, 11, 25, 34, 59, 80, 120, 155, 201, 265, 313, 381, 461, 570, 698, 863, 1087, 1185, 1302, 1476, 1622, 1844, 1997, 2231, 2358, 2497, 2639, 2795, 2850, 2999, 3160, 3251, 3352, 3456, 3555, 3631, 3497, 3578, 3706, 3738]}, {\"name\": \"Totale ospedalizzati\", \"type\": \"bar\", \"x\": [\"2020-02-24T18:00:00\", \"2020-02-25T18:00:00\", \"2020-02-26T18:00:00\", \"2020-02-27T18:00:00\", \"2020-02-28T18:00:00\", \"2020-02-29T17:00:00\", \"2020-03-01T17:00:00\", \"2020-03-02T18:00:00\", \"2020-03-03T18:00:00\", \"2020-03-04T17:00:00\", \"2020-03-05T17:00:00\", \"2020-03-06T17:00:00\", \"2020-03-07T18:00:00\", \"2020-03-08T18:00:00\", \"2020-03-09T18:00:00\", \"2020-03-10T18:00:00\", \"2020-03-11T17:00:00\", \"2020-03-12T17:00:00\", \"2020-03-13T17:00:00\", \"2020-03-14T17:00:00\", \"2020-03-15T17:00:00\", \"2020-03-16T17:00:00\", \"2020-03-17T17:00:00\", \"2020-03-18T17:00:00\", \"2020-03-19T17:00:00\", \"2020-03-20T17:00:00\", \"2020-03-21T17:00:00\", \"2020-03-22T17:00:00\", \"2020-03-23T17:00:00\", \"2020-03-24T17:00:00\", \"2020-03-25T17:00:00\", \"2020-03-26T17:00:00\", \"2020-03-27T17:00:00\", \"2020-03-28T17:00:00\", \"2020-03-29T17:00:00\", \"2020-03-30T17:00:00\", \"2020-03-31T17:00:00\", \"2020-04-01T17:00:00\", \"2020-04-02T17:00:00\", \"2020-04-03T17:00:00\", \"2020-04-04T17:00:00\", \"2020-04-05T17:00:00\", \"2020-04-06T17:00:00\", \"2020-04-07T17:00:00\"], \"y\": [0, 0, 1, 3, 5, 8, 17, 23, 40, 49, 76, 93, 130, 151, 183, 206, 278, 330, 422, 542, 619, 638, 708, 757, 797, 842, 883, 954, 1030, 1011, 1086, 1143, 1141, 1153, 1168, 1165, 1115, 1152, 1150, 1140, 1150, 1138, 1141, 1101]}, {\"name\": \"Deceduti\", \"type\": \"bar\", \"x\": [\"2020-02-24T18:00:00\", \"2020-02-25T18:00:00\", \"2020-02-26T18:00:00\", \"2020-02-27T18:00:00\", \"2020-02-28T18:00:00\", \"2020-02-29T17:00:00\", \"2020-03-01T17:00:00\", \"2020-03-02T18:00:00\", \"2020-03-03T18:00:00\", \"2020-03-04T17:00:00\", \"2020-03-05T17:00:00\", \"2020-03-06T17:00:00\", \"2020-03-07T18:00:00\", \"2020-03-08T18:00:00\", \"2020-03-09T18:00:00\", \"2020-03-10T18:00:00\", \"2020-03-11T17:00:00\", \"2020-03-12T17:00:00\", \"2020-03-13T17:00:00\", \"2020-03-14T17:00:00\", \"2020-03-15T17:00:00\", \"2020-03-16T17:00:00\", \"2020-03-17T17:00:00\", \"2020-03-18T17:00:00\", \"2020-03-19T17:00:00\", \"2020-03-20T17:00:00\", \"2020-03-21T17:00:00\", \"2020-03-22T17:00:00\", \"2020-03-23T17:00:00\", \"2020-03-24T17:00:00\", \"2020-03-25T17:00:00\", \"2020-03-26T17:00:00\", \"2020-03-27T17:00:00\", \"2020-03-28T17:00:00\", \"2020-03-29T17:00:00\", \"2020-03-30T17:00:00\", \"2020-03-31T17:00:00\", \"2020-04-01T17:00:00\", \"2020-04-02T17:00:00\", \"2020-04-03T17:00:00\", \"2020-04-04T17:00:00\", \"2020-04-05T17:00:00\", \"2020-04-06T17:00:00\", \"2020-04-07T17:00:00\"], \"y\": [0, 0, 0, 0, 0, 0, 0, 1, 2, 4, 4, 4, 6, 7, 10, 13, 18, 22, 27, 36, 46, 57, 69, 92, 115, 137, 154, 184, 203, 231, 287, 310, 336, 364, 386, 417, 452, 477, 503, 557, 574, 599, 612, 630]}],\n",
              "                        {\"barmode\": \"group\", \"template\": {\"data\": {\"bar\": [{\"error_x\": {\"color\": \"#2a3f5f\"}, \"error_y\": {\"color\": \"#2a3f5f\"}, \"marker\": {\"line\": {\"color\": \"#E5ECF6\", \"width\": 0.5}}, \"type\": \"bar\"}], \"barpolar\": [{\"marker\": {\"line\": {\"color\": \"#E5ECF6\", \"width\": 0.5}}, \"type\": \"barpolar\"}], \"carpet\": [{\"aaxis\": {\"endlinecolor\": \"#2a3f5f\", \"gridcolor\": \"white\", \"linecolor\": \"white\", \"minorgridcolor\": \"white\", \"startlinecolor\": \"#2a3f5f\"}, \"baxis\": {\"endlinecolor\": \"#2a3f5f\", \"gridcolor\": \"white\", \"linecolor\": \"white\", \"minorgridcolor\": \"white\", \"startlinecolor\": \"#2a3f5f\"}, \"type\": \"carpet\"}], \"choropleth\": [{\"colorbar\": {\"outlinewidth\": 0, \"ticks\": \"\"}, \"type\": \"choropleth\"}], \"contour\": [{\"colorbar\": {\"outlinewidth\": 0, \"ticks\": \"\"}, \"colorscale\": [[0.0, \"#0d0887\"], [0.1111111111111111, \"#46039f\"], [0.2222222222222222, \"#7201a8\"], [0.3333333333333333, \"#9c179e\"], [0.4444444444444444, \"#bd3786\"], [0.5555555555555556, \"#d8576b\"], [0.6666666666666666, \"#ed7953\"], [0.7777777777777778, \"#fb9f3a\"], [0.8888888888888888, \"#fdca26\"], [1.0, \"#f0f921\"]], \"type\": \"contour\"}], \"contourcarpet\": [{\"colorbar\": {\"outlinewidth\": 0, \"ticks\": \"\"}, \"type\": \"contourcarpet\"}], \"heatmap\": [{\"colorbar\": {\"outlinewidth\": 0, \"ticks\": \"\"}, \"colorscale\": [[0.0, \"#0d0887\"], [0.1111111111111111, \"#46039f\"], [0.2222222222222222, \"#7201a8\"], [0.3333333333333333, \"#9c179e\"], [0.4444444444444444, \"#bd3786\"], [0.5555555555555556, \"#d8576b\"], [0.6666666666666666, \"#ed7953\"], [0.7777777777777778, \"#fb9f3a\"], [0.8888888888888888, \"#fdca26\"], [1.0, \"#f0f921\"]], \"type\": \"heatmap\"}], \"heatmapgl\": [{\"colorbar\": {\"outlinewidth\": 0, \"ticks\": \"\"}, \"colorscale\": [[0.0, \"#0d0887\"], [0.1111111111111111, \"#46039f\"], [0.2222222222222222, \"#7201a8\"], [0.3333333333333333, \"#9c179e\"], [0.4444444444444444, \"#bd3786\"], [0.5555555555555556, \"#d8576b\"], [0.6666666666666666, \"#ed7953\"], [0.7777777777777778, \"#fb9f3a\"], [0.8888888888888888, \"#fdca26\"], [1.0, \"#f0f921\"]], \"type\": \"heatmapgl\"}], \"histogram\": [{\"marker\": {\"colorbar\": {\"outlinewidth\": 0, \"ticks\": \"\"}}, \"type\": \"histogram\"}], \"histogram2d\": [{\"colorbar\": {\"outlinewidth\": 0, \"ticks\": \"\"}, \"colorscale\": [[0.0, \"#0d0887\"], [0.1111111111111111, \"#46039f\"], [0.2222222222222222, \"#7201a8\"], [0.3333333333333333, \"#9c179e\"], [0.4444444444444444, \"#bd3786\"], [0.5555555555555556, \"#d8576b\"], [0.6666666666666666, \"#ed7953\"], [0.7777777777777778, \"#fb9f3a\"], [0.8888888888888888, \"#fdca26\"], [1.0, \"#f0f921\"]], \"type\": \"histogram2d\"}], \"histogram2dcontour\": [{\"colorbar\": {\"outlinewidth\": 0, \"ticks\": \"\"}, \"colorscale\": [[0.0, \"#0d0887\"], [0.1111111111111111, \"#46039f\"], [0.2222222222222222, \"#7201a8\"], [0.3333333333333333, \"#9c179e\"], [0.4444444444444444, \"#bd3786\"], [0.5555555555555556, \"#d8576b\"], [0.6666666666666666, \"#ed7953\"], [0.7777777777777778, \"#fb9f3a\"], [0.8888888888888888, \"#fdca26\"], [1.0, \"#f0f921\"]], \"type\": \"histogram2dcontour\"}], \"mesh3d\": [{\"colorbar\": {\"outlinewidth\": 0, \"ticks\": \"\"}, \"type\": \"mesh3d\"}], \"parcoords\": [{\"line\": {\"colorbar\": {\"outlinewidth\": 0, \"ticks\": \"\"}}, \"type\": \"parcoords\"}], \"pie\": [{\"automargin\": true, \"type\": \"pie\"}], \"scatter\": [{\"marker\": {\"colorbar\": {\"outlinewidth\": 0, \"ticks\": \"\"}}, \"type\": \"scatter\"}], \"scatter3d\": [{\"line\": {\"colorbar\": {\"outlinewidth\": 0, \"ticks\": \"\"}}, \"marker\": {\"colorbar\": {\"outlinewidth\": 0, \"ticks\": \"\"}}, \"type\": \"scatter3d\"}], \"scattercarpet\": [{\"marker\": {\"colorbar\": {\"outlinewidth\": 0, \"ticks\": \"\"}}, \"type\": \"scattercarpet\"}], \"scattergeo\": [{\"marker\": {\"colorbar\": {\"outlinewidth\": 0, \"ticks\": \"\"}}, \"type\": \"scattergeo\"}], \"scattergl\": [{\"marker\": {\"colorbar\": {\"outlinewidth\": 0, \"ticks\": \"\"}}, \"type\": \"scattergl\"}], \"scattermapbox\": [{\"marker\": {\"colorbar\": {\"outlinewidth\": 0, \"ticks\": \"\"}}, \"type\": \"scattermapbox\"}], \"scatterpolar\": [{\"marker\": {\"colorbar\": {\"outlinewidth\": 0, \"ticks\": \"\"}}, \"type\": \"scatterpolar\"}], \"scatterpolargl\": [{\"marker\": {\"colorbar\": {\"outlinewidth\": 0, \"ticks\": \"\"}}, \"type\": \"scatterpolargl\"}], \"scatterternary\": [{\"marker\": {\"colorbar\": {\"outlinewidth\": 0, \"ticks\": \"\"}}, \"type\": \"scatterternary\"}], \"surface\": [{\"colorbar\": {\"outlinewidth\": 0, \"ticks\": \"\"}, \"colorscale\": [[0.0, \"#0d0887\"], [0.1111111111111111, \"#46039f\"], [0.2222222222222222, \"#7201a8\"], [0.3333333333333333, \"#9c179e\"], [0.4444444444444444, \"#bd3786\"], [0.5555555555555556, \"#d8576b\"], [0.6666666666666666, \"#ed7953\"], [0.7777777777777778, \"#fb9f3a\"], [0.8888888888888888, \"#fdca26\"], [1.0, \"#f0f921\"]], \"type\": \"surface\"}], \"table\": [{\"cells\": {\"fill\": {\"color\": \"#EBF0F8\"}, \"line\": {\"color\": \"white\"}}, \"header\": {\"fill\": {\"color\": \"#C8D4E3\"}, \"line\": {\"color\": \"white\"}}, \"type\": \"table\"}]}, \"layout\": {\"annotationdefaults\": {\"arrowcolor\": \"#2a3f5f\", \"arrowhead\": 0, \"arrowwidth\": 1}, \"coloraxis\": {\"colorbar\": {\"outlinewidth\": 0, \"ticks\": \"\"}}, \"colorscale\": {\"diverging\": [[0, \"#8e0152\"], [0.1, \"#c51b7d\"], [0.2, \"#de77ae\"], [0.3, \"#f1b6da\"], [0.4, \"#fde0ef\"], [0.5, \"#f7f7f7\"], [0.6, \"#e6f5d0\"], [0.7, \"#b8e186\"], [0.8, \"#7fbc41\"], [0.9, \"#4d9221\"], [1, \"#276419\"]], \"sequential\": [[0.0, \"#0d0887\"], [0.1111111111111111, \"#46039f\"], [0.2222222222222222, \"#7201a8\"], [0.3333333333333333, \"#9c179e\"], [0.4444444444444444, \"#bd3786\"], [0.5555555555555556, \"#d8576b\"], [0.6666666666666666, \"#ed7953\"], [0.7777777777777778, \"#fb9f3a\"], [0.8888888888888888, \"#fdca26\"], [1.0, \"#f0f921\"]], \"sequentialminus\": [[0.0, \"#0d0887\"], [0.1111111111111111, \"#46039f\"], [0.2222222222222222, \"#7201a8\"], [0.3333333333333333, \"#9c179e\"], [0.4444444444444444, \"#bd3786\"], [0.5555555555555556, \"#d8576b\"], [0.6666666666666666, \"#ed7953\"], [0.7777777777777778, \"#fb9f3a\"], [0.8888888888888888, \"#fdca26\"], [1.0, \"#f0f921\"]]}, \"colorway\": [\"#636efa\", \"#EF553B\", \"#00cc96\", \"#ab63fa\", \"#FFA15A\", \"#19d3f3\", \"#FF6692\", \"#B6E880\", \"#FF97FF\", \"#FECB52\"], \"font\": {\"color\": \"#2a3f5f\"}, \"geo\": {\"bgcolor\": \"white\", \"lakecolor\": \"white\", \"landcolor\": \"#E5ECF6\", \"showlakes\": true, \"showland\": true, \"subunitcolor\": \"white\"}, \"hoverlabel\": {\"align\": \"left\"}, \"hovermode\": \"closest\", \"mapbox\": {\"style\": \"light\"}, \"paper_bgcolor\": \"white\", \"plot_bgcolor\": \"#E5ECF6\", \"polar\": {\"angularaxis\": {\"gridcolor\": \"white\", \"linecolor\": \"white\", \"ticks\": \"\"}, \"bgcolor\": \"#E5ECF6\", \"radialaxis\": {\"gridcolor\": \"white\", \"linecolor\": \"white\", \"ticks\": \"\"}}, \"scene\": {\"xaxis\": {\"backgroundcolor\": \"#E5ECF6\", \"gridcolor\": \"white\", \"gridwidth\": 2, \"linecolor\": \"white\", \"showbackground\": true, \"ticks\": \"\", \"zerolinecolor\": \"white\"}, \"yaxis\": {\"backgroundcolor\": \"#E5ECF6\", \"gridcolor\": \"white\", \"gridwidth\": 2, \"linecolor\": \"white\", \"showbackground\": true, \"ticks\": \"\", \"zerolinecolor\": \"white\"}, \"zaxis\": {\"backgroundcolor\": \"#E5ECF6\", \"gridcolor\": \"white\", \"gridwidth\": 2, \"linecolor\": \"white\", \"showbackground\": true, \"ticks\": \"\", \"zerolinecolor\": \"white\"}}, \"shapedefaults\": {\"line\": {\"color\": \"#2a3f5f\"}}, \"ternary\": {\"aaxis\": {\"gridcolor\": \"white\", \"linecolor\": \"white\", \"ticks\": \"\"}, \"baxis\": {\"gridcolor\": \"white\", \"linecolor\": \"white\", \"ticks\": \"\"}, \"bgcolor\": \"#E5ECF6\", \"caxis\": {\"gridcolor\": \"white\", \"linecolor\": \"white\", \"ticks\": \"\"}}, \"title\": {\"x\": 0.05}, \"xaxis\": {\"automargin\": true, \"gridcolor\": \"white\", \"linecolor\": \"white\", \"ticks\": \"\", \"title\": {\"standoff\": 15}, \"zerolinecolor\": \"white\", \"zerolinewidth\": 2}, \"yaxis\": {\"automargin\": true, \"gridcolor\": \"white\", \"linecolor\": \"white\", \"ticks\": \"\", \"title\": {\"standoff\": 15}, \"zerolinecolor\": \"white\", \"zerolinewidth\": 2}}}, \"title\": {\"text\": \"Marche\"}, \"xaxis\": {\"tickangle\": -45}},\n",
              "                        {\"responsive\": true}\n",
              "                    ).then(function(){\n",
              "                            \n",
              "var gd = document.getElementById('4f183559-e5c6-47ca-acb4-6f192a2426b7');\n",
              "var x = new MutationObserver(function (mutations, observer) {{\n",
              "        var display = window.getComputedStyle(gd).display;\n",
              "        if (!display || display === 'none') {{\n",
              "            console.log([gd, 'removed!']);\n",
              "            Plotly.purge(gd);\n",
              "            observer.disconnect();\n",
              "        }}\n",
              "}});\n",
              "\n",
              "// Listen for the removal of the full notebook cells\n",
              "var notebookContainer = gd.closest('#notebook-container');\n",
              "if (notebookContainer) {{\n",
              "    x.observe(notebookContainer, {childList: true});\n",
              "}}\n",
              "\n",
              "// Listen for the clearing of the current output cell\n",
              "var outputEl = gd.closest('.output');\n",
              "if (outputEl) {{\n",
              "    x.observe(outputEl, {childList: true});\n",
              "}}\n",
              "\n",
              "                        })\n",
              "                };\n",
              "                \n",
              "            </script>\n",
              "        </div>\n",
              "</body>\n",
              "</html>"
            ]
          },
          "metadata": {
            "tags": []
          }
        }
      ]
    }
  ]
}