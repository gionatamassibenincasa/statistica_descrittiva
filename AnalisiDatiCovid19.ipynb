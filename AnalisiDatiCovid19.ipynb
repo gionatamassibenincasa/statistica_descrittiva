{
 "cells": [
  {
   "cell_type": "markdown",
   "metadata": {
    "toc": true
   },
   "source": [
    "<h1>Indice<span class=\"tocSkip\"></span></h1>\n",
    "<div class=\"toc\"><ul class=\"toc-item\"></ul></div>"
   ]
  },
  {
   "cell_type": "markdown",
   "metadata": {
    "colab_type": "text",
    "id": "view-in-github"
   },
   "source": [
    "<a href=\"https://colab.research.google.com/github/gionatamassibenincasa/statistica_descrittiva/blob/master/AnalisiDatiCovid19.ipynb\" target=\"_parent\"><img src=\"https://colab.research.google.com/assets/colab-badge.svg\" alt=\"Open In Colab\"/></a>"
   ]
  },
  {
   "cell_type": "code",
   "execution_count": null,
   "metadata": {
    "colab": {},
    "colab_type": "code",
    "id": "9CEZegaIG3lM"
   },
   "outputs": [],
   "source": [
    "import pandas as pd\n",
    "import plotly as py\n",
    "import plotly.graph_objects as go\n",
    "from plotly.offline import iplot\n",
    "import re\n",
    "import numpy as np\n",
    "\n",
    "df_nazione = pd.read_csv(\"https://raw.githubusercontent.com/pcm-dpc/COVID-19/master/dati-andamento-nazionale/dpc-covid19-ita-andamento-nazionale.csv\")\n",
    "df_regioni = pd.read_csv(\"https://raw.githubusercontent.com/pcm-dpc/COVID-19/master/dati-regioni/dpc-covid19-ita-regioni.csv\")\n",
    "df_marche = df_regioni[df_regioni['denominazione_regione'] == \"Marche\"] # df_regioni[df_regioni['codice_regione'] == 11]\n",
    "df_puglia = df_regioni[df_regioni['denominazione_regione'] == \"Puglia\"]\n",
    "\n",
    "nomi_campi = [\"totale_positivi\", \"totale_ospedalizzati\", \"terapia_intensiva\", \"variazione_totale_positivi\", \"nuovi_positivi\", \"deceduti\"]\n",
    "finestra = [6, 1, 1, 6, 6, 1]\n",
    "ritardo = [3, 0, 0, 4, 4, 1]\n",
    "nomi_legenda = list(map(lambda campo: re.sub(\"_\", \" \", campo).capitalize(), nomi_campi))"
   ]
  },
  {
   "cell_type": "code",
   "execution_count": null,
   "metadata": {
    "colab": {
     "base_uri": "https://localhost:8080/",
     "height": 1000
    },
    "colab_type": "code",
    "id": "ZQ9ynJFSG7al",
    "outputId": "d85834de-4efb-4c6c-9b2e-0e21f4615f10",
    "scrolled": false
   },
   "outputs": [],
   "source": [
    "for df in [ df_nazione, df_marche, df_puglia]:\n",
    "    fig = go.Figure()\n",
    "    i = 0\n",
    "    while i < len(nomi_campi):\n",
    "        fig.add_trace(go.Bar(\n",
    "            x=df.data,\n",
    "            y=getattr(df, nomi_campi[i]),\n",
    "            name= nomi_legenda[i]\n",
    "        ))\n",
    "        fig.add_trace(go.Line(\n",
    "            x=df.data,\n",
    "            y=getattr(df, nomi_campi[i]).rolling(finestra[i], win_type=\"hamming\").mean().shift(-ritardo[i]+1),\n",
    "            name=(\"MM \" +  nomi_legenda[i])\n",
    "        ))\n",
    "        i = i + 1\n",
    "        \n",
    "    # Variazione percentuale dei positivi\n",
    "    fig.add_trace(go.Bar(\n",
    "            x=df.data,\n",
    "            y=100 * df.variazione_totale_positivi / df.totale_positivi,\n",
    "            name=\"Var. perc. positivi\"\n",
    "    ))\n",
    "    # Rapporto nuovi contagi su totale positivi\n",
    "    fig.add_trace(go.Line(\n",
    "            x=df.data,\n",
    "            y=1000 * df.nuovi_positivi / df.totale_positivi,\n",
    "            name=\"Rt per mille\"\n",
    "    ))\n",
    "    fig.add_trace(go.Bar(\n",
    "            x=df.data,\n",
    "            y= np.diff(df.tamponi),\n",
    "            name=\"Tamponi giornalieri\"\n",
    "    ))\n",
    "    fig.add_trace(go.Bar(\n",
    "            x=df.data,\n",
    "            y=np.diff(df.casi_testati),\n",
    "            name=\"Tamponi giornalieri nuove diagnosi\"\n",
    "    ))\n",
    "    fig.add_trace(go.Bar(\n",
    "            x=df.data,\n",
    "            y= np.diff(df.tamponi) - np.diff(df.casi_testati),\n",
    "            name=\"Tamponi ricerca guarigioni\"\n",
    "    ))\n",
    "    fig.add_trace(go.Bar(\n",
    "            x=df.data,\n",
    "            y= np.gradient(df.deceduti),\n",
    "            name=\"Gradiente deceduti\"\n",
    "    ))\n",
    "    fig.add_trace(go.Bar(\n",
    "            x=df.data,\n",
    "            y= np.diff(df.casi_testati) / np.diff(df.tamponi),\n",
    "            name=\"Tasso ricerca nuovi casi\"\n",
    "    ))\n",
    "    \n",
    "    fig.update_layout(barmode='group', xaxis_tickangle=-45, title_text = df['denominazione_regione'].iloc[0] if 'denominazione_regione' in df.columns else 'Italia')\n",
    "    fig.show()"
   ]
  }
 ],
 "metadata": {
  "colab": {
   "authorship_tag": "ABX9TyOifiWmqoR6cdck4kbPRNTu",
   "collapsed_sections": [],
   "include_colab_link": true,
   "name": "AnalisiDatiCovid.ipynb",
   "provenance": []
  },
  "kernelspec": {
   "display_name": "Python 3",
   "language": "python",
   "name": "python3"
  },
  "language_info": {
   "codemirror_mode": {
    "name": "ipython",
    "version": 3
   },
   "file_extension": ".py",
   "mimetype": "text/x-python",
   "name": "python",
   "nbconvert_exporter": "python",
   "pygments_lexer": "ipython3",
   "version": "3.8.2"
  },
  "nbTranslate": {
   "displayLangs": [
    "*"
   ],
   "hotkey": "alt-t",
   "langInMainMenu": true,
   "sourceLang": "en",
   "targetLang": "fr",
   "useGoogleTranslate": true
  },
  "toc": {
   "base_numbering": 1,
   "nav_menu": {},
   "number_sections": true,
   "sideBar": true,
   "skip_h1_title": true,
   "title_cell": "Indice",
   "title_sidebar": "Indice",
   "toc_cell": true,
   "toc_position": {},
   "toc_section_display": true,
   "toc_window_display": false
  }
 },
 "nbformat": 4,
 "nbformat_minor": 1
}
